{
 "cells": [
  {
   "cell_type": "markdown",
   "metadata": {
    "slideshow": {
     "slide_type": "slide"
    }
   },
   "source": [
    "# OpenML in Python \n",
    "(Work in progress)  \n",
    "Joaquin Vanschoren @joavanschoren\n"
   ]
  },
  {
   "cell_type": "markdown",
   "metadata": {
    "slideshow": {
     "slide_type": "slide"
    }
   },
   "source": [
    "## How to...\n",
    "- Download datasets and tasks\n",
    "- Use scikit-learn to build classifiers\n",
    "- Upload the results to the server\n"
   ]
  },
  {
   "cell_type": "markdown",
   "metadata": {
    "slideshow": {
     "slide_type": "slide"
    }
   },
   "source": [
    "# Setup"
   ]
  },
  {
   "cell_type": "markdown",
   "metadata": {
    "slideshow": {
     "slide_type": "subslide"
    }
   },
   "source": [
    "## Authentication\n",
    "Via API key (e.g. 'rgu9hw1h03g24j974hr3586g4j598fgh')  \n",
    "Always keep it secret"
   ]
  },
  {
   "cell_type": "markdown",
   "metadata": {
    "slideshow": {
     "slide_type": "subslide"
    }
   },
   "source": [
    "Go to your OpenML account settings and see 'API authentication' to retrieve your key. \n",
    "<center><img src=\"files/openml_login.png\" width=\"800\"></center>"
   ]
  },
  {
   "cell_type": "markdown",
   "metadata": {
    "slideshow": {
     "slide_type": "subslide"
    }
   },
   "source": [
    "## Installation\n",
    "Via source"
   ]
  },
  {
   "cell_type": "code",
   "execution_count": null,
   "metadata": {
    "collapsed": true
   },
   "outputs": [],
   "source": [
    "git clone https://github.com/openml/python.git\n",
    "python setup.py install"
   ]
  },
  {
   "cell_type": "markdown",
   "metadata": {
    "slideshow": {
     "slide_type": "subslide"
    }
   },
   "source": [
    "## Setup"
   ]
  },
  {
   "cell_type": "code",
   "execution_count": 3,
   "metadata": {
    "cellView": null,
    "collapsed": false,
    "executionInfo": {
     "content": {
      "execution_count": 1,
      "payload": [],
      "status": "ok",
      "user_expressions": {},
      "user_variables": {}
     },
     "timestamp": 1455756578370,
     "user": {
      "color": "#1FA15D",
      "displayName": "Joaquin Vanschoren",
      "isAnonymous": false,
      "isMe": true,
      "permissionId": "09574386662628411592",
      "photoUrl": "//lh6.googleusercontent.com/-9g2BD5NUkx4/AAAAAAAAAAI/AAAAAAAACC4/sACE-8zBzX4/s50-c-k-no/photo.jpg",
      "sessionId": "705fdb90ea984ffb",
      "userId": "109221074076178034989"
     },
     "user_tz": -60
    },
    "slideshow": {
     "slide_type": "-"
    }
   },
   "outputs": [],
   "source": [
    "from sklearn import preprocessing, ensemble\n",
    "from openml.apiconnector import APIConnector\n",
    "import numpy as np\n",
    "import pandas as pd\n",
    "import os\n",
    "\n",
    "home_dir = os.path.expanduser(\"~\")\n",
    "openml_dir = os.path.join(home_dir, \".openml\")\n",
    "cache_dir = os.path.join(openml_dir, \"cache\")\n",
    "with open(os.path.join(openml_dir, \"apikey.txt\"), 'r') as fh:\n",
    "\tkey = fh.readline().rstrip('\\n')\n",
    "    \n",
    "openml = APIConnector(cache_directory=cache_dir, apikey=key)"
   ]
  },
  {
   "cell_type": "markdown",
   "metadata": {
    "slideshow": {
     "slide_type": "slide"
    }
   },
   "source": [
    "# Data"
   ]
  },
  {
   "cell_type": "markdown",
   "metadata": {
    "slideshow": {
     "slide_type": "subslide"
    }
   },
   "source": [
    "## List ALL the datasets"
   ]
  },
  {
   "cell_type": "code",
   "execution_count": 5,
   "metadata": {
    "cellView": null,
    "collapsed": false,
    "executionInfo": {
     "content": {
      "execution_count": 43,
      "payload": [],
      "status": "ok",
      "user_expressions": {},
      "user_variables": {}
     },
     "timestamp": 1455749142183,
     "user": {
      "color": "#1FA15D",
      "displayName": "Joaquin Vanschoren",
      "isAnonymous": false,
      "isMe": true,
      "permissionId": "09574386662628411592",
      "photoUrl": "//lh6.googleusercontent.com/-9g2BD5NUkx4/AAAAAAAAAAI/AAAAAAAACC4/sACE-8zBzX4/s50-c-k-no/photo.jpg",
      "sessionId": "4c10e6f89dcd9d83",
      "userId": "109221074076178034989"
     },
     "user_tz": -60
    },
    "slideshow": {
     "slide_type": "-"
    }
   },
   "outputs": [
    {
     "name": "stdout",
     "output_type": "stream",
     "text": [
      "First 10 of 2429 datasets...\n",
      "   did             name  NumberOfInstances  NumberOfFeatures\n",
      "0    1           anneal                898                39\n",
      "1    2           anneal                898                39\n",
      "2    3         kr-vs-kp               3196                37\n",
      "3    4            labor                 57                17\n",
      "4    5       arrhythmia                452               280\n",
      "5    6           letter              20000                17\n",
      "6    7        audiology                226                70\n",
      "7    8  liver-disorders                345                 7\n",
      "8    9            autos                205                26\n",
      "9   10            lymph                148                19\n"
     ]
    }
   ],
   "source": [
    "datasets = openml.get_dataset_list()\n",
    "\n",
    "data = pd.DataFrame(datasets)\n",
    "print(\"First 10 of %s datasets...\" % len(datasets))\n",
    "print(data[:10][['did','name','NumberOfInstances','NumberOfFeatures']])"
   ]
  },
  {
   "cell_type": "markdown",
   "metadata": {
    "slideshow": {
     "slide_type": "subslide"
    }
   },
   "source": [
    "Subset based on any property"
   ]
  },
  {
   "cell_type": "code",
   "execution_count": 24,
   "metadata": {
    "collapsed": false
   },
   "outputs": [
    {
     "name": "stdout",
     "output_type": "stream",
     "text": [
      "First 10 of 218 datasets...\n",
      "    did           name  NumberOfInstances  NumberOfFeatures\n",
      "2     3       kr-vs-kp               3196                37\n",
      "3     4          labor                 57                17\n",
      "12   13  breast-cancer                286                10\n",
      "14   15       breast-w                699                10\n",
      "21   24       mushroom               8124                23\n",
      "22   25          colic                368                28\n",
      "24   27          colic                368                23\n",
      "26   29       credit-a                690                16\n",
      "28   31       credit-g               1000                21\n",
      "33   37       diabetes                768                 9\n"
     ]
    }
   ],
   "source": [
    "bin_data = data.loc[data['NumberOfClasses'] == 2]\n",
    "print(\"First 10 of %s datasets...\" % len(cl_data))\n",
    "print(bin_data[:10][['did','name', 'NumberOfInstances','NumberOfFeatures']])"
   ]
  },
  {
   "cell_type": "markdown",
   "metadata": {
    "slideshow": {
     "slide_type": "subslide"
    }
   },
   "source": [
    "Subset based on any property"
   ]
  },
  {
   "cell_type": "code",
   "execution_count": 38,
   "metadata": {
    "collapsed": false,
    "slideshow": {
     "slide_type": "-"
    }
   },
   "outputs": [
    {
     "name": "stdout",
     "output_type": "stream",
     "text": [
      "First 10 of 218 datasets...\n",
      "       did                          name  NumberOfInstances\n",
      "1289  1588                           w8a              64700\n",
      "2409  4533  KEGGMetabolicReactionNetwork              65554\n",
      "1292  1591                     connect-4              67557\n",
      "413    554                     mnist_784              70000\n",
      "1280  1578                      real-sim              72309\n",
      "1050  1213                       BNG(mv)              78732\n",
      "2408  4532                         higgs              98050\n",
      "240    357                vehicle_sensIT              98528\n",
      "1294  1593       SensIT-Vehicle-Combined              98528\n",
      "1067  1242                   vehicleNorm              98528\n"
     ]
    }
   ],
   "source": [
    "big_data = data.loc[data['NumberOfInstances'] > 60000]\n",
    "big_data = big_data.sort_values(by='NumberOfInstances', ascending=True)\n",
    "print(\"First 10 of %s datasets...\" % len(cl_data))\n",
    "print(big_data[:10][['did','name', 'NumberOfInstances']])"
   ]
  },
  {
   "cell_type": "markdown",
   "metadata": {
    "slideshow": {
     "slide_type": "subslide"
    }
   },
   "source": [
    "Download a specific dataset. This is done based on the dataset ID (called 'did' in the table above)."
   ]
  },
  {
   "cell_type": "code",
   "execution_count": 10,
   "metadata": {
    "cellView": null,
    "collapsed": false,
    "executionInfo": {
     "content": {
      "execution_count": 83,
      "payload": [],
      "status": "ok",
      "user_expressions": {},
      "user_variables": {}
     },
     "timestamp": 1455753527460,
     "user": {
      "color": "#1FA15D",
      "displayName": "Joaquin Vanschoren",
      "isAnonymous": false,
      "isMe": true,
      "permissionId": "09574386662628411592",
      "photoUrl": "//lh6.googleusercontent.com/-9g2BD5NUkx4/AAAAAAAAAAI/AAAAAAAACC4/sACE-8zBzX4/s50-c-k-no/photo.jpg",
      "sessionId": "4868f0f035c55454",
      "userId": "109221074076178034989"
     },
     "user_tz": -60
    },
    "scrolled": true,
    "slideshow": {
     "slide_type": "-"
    }
   },
   "outputs": [
    {
     "name": "stdout",
     "output_type": "stream",
     "text": [
      "This is dataset 'iris', the target feature is called 'class'\n",
      "URL: http://www.openml.org/data/download/61/dataset_61_iris.arff\n",
      "**Author**: R.A. Fisher  \n",
      "**Source**: [UCI](https://archive.ics.uci.edu/ml/datasets/Iris) - 1936 - Donated by Michael Marshall  \n",
      "**Please cite**:   \n",
      "\n",
      "**Iris Plants Database**  \n",
      "This is perhaps the best known database to be found in the pattern recognition literature.  Fisher's paper is a classic in the field and is referenced frequently to this day.  (See Duda & Hart, for example.)  The data set contains 3 classes of 50 instances each, where each class refers to a type of iris plant.  One class \n"
     ]
    }
   ],
   "source": [
    "dataset = openml.download_dataset(61)\n",
    "\n",
    "print(\"This is dataset '%s', the target feature is called '%s'\" % (dataset.name, dataset.default_target_attribute))\n",
    "print(\"URL: %s\" % dataset.url)\n",
    "print(dataset.description[:500])"
   ]
  },
  {
   "cell_type": "code",
   "execution_count": 42,
   "metadata": {
    "collapsed": false,
    "slideshow": {
     "slide_type": "skip"
    }
   },
   "outputs": [
    {
     "name": "stdout",
     "output_type": "stream",
     "text": [
      "{'citation': None,\n",
      " 'collection_date': '1936',\n",
      " 'contributor': None,\n",
      " 'creator': 'R.A. Fisher',\n",
      " 'data_file': '/Users/joa/.openml/cache/datasets/61/dataset.arff',\n",
      " 'data_pickle_file': '/Users/joa/.openml/cache/datasets/61/dataset.pkl',\n",
      " 'default_target_attribute': 'class',\n",
      " 'description': '**Author**: R.A. Fisher  \\n'\n",
      "                '**Source**: '\n",
      "                '[UCI](https://archive.ics.uci.edu/ml/datasets/Iris) - 1936 - '\n",
      "                'Donated by Michael Marshall  \\n'\n",
      "                '**Please cite**:   \\n'\n",
      "                '\\n'\n",
      "                '**Iris Plants Database**  \\n'\n",
      "                'This is perhaps the best known database to be found in the '\n",
      "                \"pattern recognition literature.  Fisher's paper is a classic \"\n",
      "                'in the field and is referenced frequently to this day.  (See '\n",
      "                'Duda & Hart, for example.)  The data set contains 3 classes '\n",
      "                'of 50 instances each, where each class refers to a type of '\n",
      "                'iris plant.  One class is     linearly separable from the '\n",
      "                'other 2; the latter are NOT linearly separable from each '\n",
      "                'other.\\n'\n",
      "                '\\n'\n",
      "                'Predicted attribute: class of iris plant.  \\n'\n",
      "                'This is an exceedingly simple domain.  \\n'\n",
      "                ' \\n'\n",
      "                '### Attribute Information:\\n'\n",
      "                '    1. sepal length in cm\\n'\n",
      "                '    2. sepal width in cm\\n'\n",
      "                '    3. petal length in cm\\n'\n",
      "                '    4. petal width in cm\\n'\n",
      "                '    5. class: \\n'\n",
      "                '       -- Iris Setosa\\n'\n",
      "                '       -- Iris Versicolour\\n'\n",
      "                '       -- Iris Virginica',\n",
      " 'format': 'ARFF',\n",
      " 'id': 61,\n",
      " 'ignore_attributes': None,\n",
      " 'language': None,\n",
      " 'licence': 'Public',\n",
      " 'md5_cheksum': '3a212cce13fc6f9b94f4793285813d95',\n",
      " 'name': 'iris',\n",
      " 'original_data_url': 'https://archive.ics.uci.edu/ml/datasets/Iris',\n",
      " 'paper_url': 'http://digital.library.adelaide.edu.au/dspace/handle/2440/15227',\n",
      " 'row_id_attribute': None,\n",
      " 'tag': ['study_1', 'study_4', 'uci'],\n",
      " 'update_comment': None,\n",
      " 'upload_date': '2014-04-06 23:23:39',\n",
      " 'url': 'http://www.openml.org/data/download/61/dataset_61_iris.arff',\n",
      " 'version': 1,\n",
      " 'version_label': '1',\n",
      " 'visibility': 'public'}\n"
     ]
    }
   ],
   "source": [
    "from pprint import pprint\n",
    "pprint(vars(dataset))"
   ]
  },
  {
   "cell_type": "markdown",
   "metadata": {
    "slideshow": {
     "slide_type": "subslide"
    }
   },
   "source": [
    "Get the actual data"
   ]
  },
  {
   "cell_type": "code",
   "execution_count": 50,
   "metadata": {
    "collapsed": false
   },
   "outputs": [
    {
     "name": "stdout",
     "output_type": "stream",
     "text": [
      "   sepallength  sepalwidth  petallength  petalwidth  class\n",
      "0          5.1         3.5          1.4         0.2      0\n",
      "1          4.9         3.0          1.4         0.2      0\n",
      "2          4.7         3.2          1.3         0.2      0\n",
      "3          4.6         3.1          1.5         0.2      0\n",
      "4          5.0         3.6          1.4         0.2      0\n",
      "5          5.4         3.9          1.7         0.4      0\n",
      "6          4.6         3.4          1.4         0.3      0\n",
      "7          5.0         3.4          1.5         0.2      0\n",
      "8          4.4         2.9          1.4         0.2      0\n",
      "9          4.9         3.1          1.5         0.1      0\n"
     ]
    }
   ],
   "source": [
    "X, y, attribute_names = dataset.get_dataset(target=dataset.default_target_attribute, return_attribute_names=True)\n",
    "iris = pd.DataFrame(X, columns=attribute_names)\n",
    "iris['class'] = y\n",
    "print(iris[:10])"
   ]
  },
  {
   "cell_type": "markdown",
   "metadata": {
    "slideshow": {
     "slide_type": "subslide"
    }
   },
   "source": [
    "Have fun with it"
   ]
  },
  {
   "cell_type": "code",
   "execution_count": 57,
   "metadata": {
    "collapsed": false
   },
   "outputs": [
    {
     "data": {
      "image/png": "[encoded data removed]",
      "text/plain": [
       "<matplotlib.figure.Figure at 0x116dd0160>"
      ]
     },
     "metadata": {},
     "output_type": "display_data"
    }
   ],
   "source": [
    "iris.plot(kind='scatter', x='petallength', y='petalwidth', c='class', s=50);"
   ]
  },
  {
   "cell_type": "markdown",
   "metadata": {
    "slideshow": {
     "slide_type": "subslide"
    }
   },
   "source": [
    "Train a scikit-learn model on the data"
   ]
  },
  {
   "cell_type": "code",
   "execution_count": 4,
   "metadata": {
    "cellView": null,
    "collapsed": false,
    "executionInfo": {
     "content": {
      "execution_count": 78,
      "payload": [],
      "status": "ok",
      "user_expressions": {},
      "user_variables": {}
     },
     "timestamp": 1455752875510,
     "user": {
      "color": "#1FA15D",
      "displayName": "Joaquin Vanschoren",
      "isAnonymous": false,
      "isMe": true,
      "permissionId": "09574386662628411592",
      "photoUrl": "//lh6.googleusercontent.com/-9g2BD5NUkx4/AAAAAAAAAAI/AAAAAAAACC4/sACE-8zBzX4/s50-c-k-no/photo.jpg",
      "sessionId": "4868f0f035c55454",
      "userId": "109221074076178034989"
     },
     "user_tz": -60
    },
    "slideshow": {
     "slide_type": "-"
    }
   },
   "outputs": [
    {
     "data": {
      "text/plain": [
       "RandomForestClassifier(bootstrap=True, class_weight=None, criterion='gini',\n",
       "            max_depth=None, max_features='auto', max_leaf_nodes=None,\n",
       "            min_samples_leaf=1, min_samples_split=2,\n",
       "            min_weight_fraction_leaf=0.0, n_estimators=10, n_jobs=1,\n",
       "            oob_score=False, random_state=None, verbose=0,\n",
       "            warm_start=False)"
      ]
     },
     "execution_count": 4,
     "metadata": {},
     "output_type": "execute_result"
    }
   ],
   "source": [
    "dataset = openml.download_dataset(61)\n",
    "X, y = dataset.get_dataset(target=dataset.default_target_attribute)\n",
    "clf = ensemble.RandomForestClassifier()\n",
    "clf.fit(X, y)"
   ]
  },
  {
   "cell_type": "code",
   "execution_count": 87,
   "metadata": {
    "collapsed": true,
    "slideshow": {
     "slide_type": "skip"
    }
   },
   "outputs": [],
   "source": [
    "# Helper code by Gilles Louppe\n",
    "from matplotlib import pyplot as plt\n",
    "import numpy as np\n",
    "\n",
    "def plot_surface(clf, X, y, \n",
    "                 xlim=(0, 7), ylim=(0, 3), n_steps=250, \n",
    "                 subplot=None, show=True):\n",
    "    if subplot is None:\n",
    "        fig = plt.figure()\n",
    "    else:\n",
    "        plt.subplot(*subplot)\n",
    "        \n",
    "    xx, yy = np.meshgrid(np.linspace(xlim[0], xlim[1], n_steps), \n",
    "                         np.linspace(ylim[0], ylim[1], n_steps))\n",
    "    \n",
    "    if hasattr(clf, \"decision_function\"):\n",
    "        z = clf.decision_function(np.c_[xx.ravel(), yy.ravel()])\n",
    "    else:\n",
    "        z = clf.predict_proba(np.c_[xx.ravel(), yy.ravel()])[:, 1]\n",
    "        \n",
    "    z = z.reshape(xx.shape)\n",
    "    plt.contourf(xx, yy, z, alpha=0.8, cmap=plt.cm.RdBu_r)\n",
    "    plt.scatter(X[:, 0], X[:, 1], c=y)\n",
    "    plt.xlim(*xlim)\n",
    "    plt.ylim(*ylim)\n",
    "    \n",
    "    if show:\n",
    "        plt.show()"
   ]
  },
  {
   "cell_type": "code",
   "execution_count": 90,
   "metadata": {
    "collapsed": false,
    "slideshow": {
     "slide_type": "subslide"
    }
   },
   "outputs": [
    {
     "data": {
      "image/png": "[encoded data removed]",
      "text/plain": [
       "<matplotlib.figure.Figure at 0x11742e588>"
      ]
     },
     "metadata": {},
     "output_type": "display_data"
    }
   ],
   "source": [
    "X = X[:,2:4]\n",
    "clf.fit(X, y)\n",
    "plot_surface(clf, X, y)"
   ]
  },
  {
   "cell_type": "markdown",
   "metadata": {
    "slideshow": {
     "slide_type": "subslide"
    }
   },
   "source": [
    "You can also ask which features are categorical to do your own encoding"
   ]
  },
  {
   "cell_type": "code",
   "execution_count": 5,
   "metadata": {
    "cellView": null,
    "collapsed": false,
    "executionInfo": {
     "content": {
      "execution_count": 80,
      "payload": [],
      "status": "ok",
      "user_expressions": {},
      "user_variables": {}
     },
     "timestamp": 1455753034942,
     "user": {
      "color": "#1FA15D",
      "displayName": "Joaquin Vanschoren",
      "isAnonymous": false,
      "isMe": true,
      "permissionId": "09574386662628411592",
      "photoUrl": "//lh6.googleusercontent.com/-9g2BD5NUkx4/AAAAAAAAAAI/AAAAAAAACC4/sACE-8zBzX4/s50-c-k-no/photo.jpg",
      "sessionId": "4868f0f035c55454",
      "userId": "109221074076178034989"
     },
     "user_tz": -60
    },
    "slideshow": {
     "slide_type": "-"
    }
   },
   "outputs": [
    {
     "data": {
      "text/plain": [
       "RandomForestClassifier(bootstrap=True, class_weight=None, criterion='gini',\n",
       "            max_depth=None, max_features='auto', max_leaf_nodes=None,\n",
       "            min_samples_leaf=1, min_samples_split=2,\n",
       "            min_weight_fraction_leaf=0.0, n_estimators=10, n_jobs=1,\n",
       "            oob_score=False, random_state=None, verbose=0,\n",
       "            warm_start=False)"
      ]
     },
     "execution_count": 5,
     "metadata": {},
     "output_type": "execute_result"
    }
   ],
   "source": [
    "X, y, categorical = dataset.get_dataset(target=dataset.default_target_attribute,return_categorical_indicator=True)\n",
    "enc = preprocessing.OneHotEncoder(categorical_features=categorical)\n",
    "X = enc.fit_transform(X)\n",
    "clf.fit(X, y)"
   ]
  },
  {
   "cell_type": "markdown",
   "metadata": {
    "slideshow": {
     "slide_type": "slide"
    }
   },
   "source": [
    "# Tasks"
   ]
  },
  {
   "cell_type": "markdown",
   "metadata": {
    "slideshow": {
     "slide_type": "-"
    }
   },
   "source": [
    "To run benchmarks consistently (also across studies and tools), OpenML offers Tasks, which include specific train-test splits and other information."
   ]
  },
  {
   "cell_type": "markdown",
   "metadata": {
    "slideshow": {
     "slide_type": "subslide"
    }
   },
   "source": [
    "## List ALL the tasks"
   ]
  },
  {
   "cell_type": "code",
   "execution_count": 4,
   "metadata": {
    "cellView": null,
    "collapsed": false,
    "executionInfo": {
     "content": {
      "execution_count": 2,
      "payload": [],
      "status": "ok",
      "user_expressions": {},
      "user_variables": {}
     },
     "timestamp": 1455756616694,
     "user": {
      "color": "#1FA15D",
      "displayName": "Joaquin Vanschoren",
      "isAnonymous": false,
      "isMe": true,
      "permissionId": "09574386662628411592",
      "photoUrl": "//lh6.googleusercontent.com/-9g2BD5NUkx4/AAAAAAAAAAI/AAAAAAAACC4/sACE-8zBzX4/s50-c-k-no/photo.jpg",
      "sessionId": "705fdb90ea984ffb",
      "userId": "109221074076178034989"
     },
     "user_tz": -60
    },
    "slideshow": {
     "slide_type": "-"
    }
   },
   "outputs": [
    {
     "name": "stdout",
     "output_type": "stream",
     "text": [
      "First 5 of 1895 tasks:\n",
      "   tid  did        name                  task_type     estimation_procedure\n",
      "0    1    1      anneal  Supervised Classification  10-fold Crossvalidation\n",
      "1    2    2      anneal  Supervised Classification  10-fold Crossvalidation\n",
      "2    3    3    kr-vs-kp  Supervised Classification  10-fold Crossvalidation\n",
      "3    4    4       labor  Supervised Classification  10-fold Crossvalidation\n",
      "4    5    5  arrhythmia  Supervised Classification  10-fold Crossvalidation\n"
     ]
    }
   ],
   "source": [
    "task_list = openml.get_task_list()\n",
    "\n",
    "tasks = pd.DataFrame(task_list)\n",
    "print(\"First 5 of %s tasks:\" % len(tasks))\n",
    "print(tasks[:5][['tid','did','name','task_type','estimation_procedure']])"
   ]
  },
  {
   "cell_type": "markdown",
   "metadata": {
    "slideshow": {
     "slide_type": "subslide"
    }
   },
   "source": [
    "## Download tasks"
   ]
  },
  {
   "cell_type": "code",
   "execution_count": 7,
   "metadata": {
    "cellView": null,
    "collapsed": false,
    "executionInfo": {
     "content": {
      "execution_count": 38,
      "payload": [],
      "status": "ok",
      "user_expressions": {},
      "user_variables": {}
     },
     "timestamp": 1455748839113,
     "user": {
      "color": "#1FA15D",
      "displayName": "Joaquin Vanschoren",
      "isAnonymous": false,
      "isMe": true,
      "permissionId": "09574386662628411592",
      "photoUrl": "//lh6.googleusercontent.com/-9g2BD5NUkx4/AAAAAAAAAAI/AAAAAAAACC4/sACE-8zBzX4/s50-c-k-no/photo.jpg",
      "sessionId": "4c10e6f89dcd9d83",
      "userId": "109221074076178034989"
     },
     "user_tz": -60
    },
    "slideshow": {
     "slide_type": "-"
    }
   },
   "outputs": [
    {
     "name": "stdout",
     "output_type": "stream",
     "text": [
      "OpenMLTask instance.\n",
      "Task ID: 10\n",
      "Task type: Supervised Classification\n",
      "Dataset id: 10\n"
     ]
    }
   ],
   "source": [
    "task = openml.download_task(10)\n",
    "print(task)"
   ]
  },
  {
   "cell_type": "markdown",
   "metadata": {
    "slideshow": {
     "slide_type": "slide"
    }
   },
   "source": [
    "# Runs"
   ]
  },
  {
   "cell_type": "markdown",
   "metadata": {
    "slideshow": {
     "slide_type": "subslide"
    }
   },
   "source": [
    "Run a scikit-learn classifier on the task (using the right splits)"
   ]
  },
  {
   "cell_type": "code",
   "execution_count": 8,
   "metadata": {
    "collapsed": false
   },
   "outputs": [
    {
     "name": "stdout",
     "output_type": "stream",
     "text": [
      "2629\n",
      "RandomForest has run on the task.\n",
      "Predictions stored: t10_RandomForestClassifier.arff\n",
      "Run description stored: t10_RandomForestClassifier.xml\n"
     ]
    }
   ],
   "source": [
    "from openml.autorun import openml_run\n",
    "\n",
    "clf = ensemble.RandomForestClassifier()\n",
    "prediction_path, description_path = openml_run(task, clf)\n",
    "print(\"RandomForest has run on the task.\")\n",
    "print(\"Predictions stored: %s\" % prediction_path)\n",
    "print(\"Run description stored: %s\" % description_path)"
   ]
  },
  {
   "cell_type": "markdown",
   "metadata": {
    "slideshow": {
     "slide_type": "subslide"
    }
   },
   "source": [
    "Upload the run to the OpenML server"
   ]
  },
  {
   "cell_type": "code",
   "execution_count": 9,
   "metadata": {
    "cellView": null,
    "collapsed": false,
    "executionInfo": {
     "content": {
      "execution_count": 10,
      "payload": [],
      "status": "ok",
      "user_expressions": {},
      "user_variables": {}
     },
     "timestamp": 1455459956275,
     "user": {
      "color": "#1FA15D",
      "displayName": "Joaquin Vanschoren",
      "isAnonymous": false,
      "isMe": true,
      "permissionId": "09574386662628411592",
      "photoUrl": "//lh6.googleusercontent.com/-9g2BD5NUkx4/AAAAAAAAAAI/AAAAAAAACC4/sACE-8zBzX4/s50-c-k-no/photo.jpg",
      "sessionId": "354d267b02171dce",
      "userId": "109221074076178034989"
     },
     "user_tz": -60
    },
    "slideshow": {
     "slide_type": "-"
    }
   },
   "outputs": [
    {
     "name": "stdout",
     "output_type": "stream",
     "text": [
      "Uploaded run with id 526419\n",
      "Check it at www.openml.org/r/526419\n"
     ]
    }
   ],
   "source": [
    "import xmltodict\n",
    "\n",
    "prediction_abspath = os.path.abspath(prediction_path)\n",
    "description_abspath = os.path.abspath(description_path)\n",
    "\n",
    "return_code, response = openml.upload_run(prediction_abspath, description_abspath)\n",
    "\n",
    "if(return_code == 200):\n",
    "\tresponse_dict = xmltodict.parse(response.content)\n",
    "\trun_id = response_dict['oml:upload_run']['oml:run_id']\n",
    "\tprint(\"Uploaded run with id %s\" % (run_id))\n",
    "\tprint(\"Check it at www.openml.org/r/%s\" % (run_id))\n"
   ]
  },
  {
   "cell_type": "markdown",
   "metadata": {
    "slideshow": {
     "slide_type": "slide"
    }
   },
   "source": [
    "More to come soon..."
   ]
  }
 ],
 "metadata": {
  "celltoolbar": "Slideshow",
  "colabVersion": "0.1",
  "kernelspec": {
   "display_name": "Python 3",
   "language": "python",
   "name": "python3"
  },
  "language_info": {
   "codemirror_mode": {
    "name": "ipython",
    "version": 3
   },
   "file_extension": ".py",
   "mimetype": "text/x-python",
   "name": "python",
   "nbconvert_exporter": "python",
   "pygments_lexer": "ipython3",
   "version": "3.5.1"
  }
 },
 "nbformat": 4,
 "nbformat_minor": 0
}

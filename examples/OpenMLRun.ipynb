{
  "worksheets": [
    {
      "cells": [
        {
          "cell_type": "markdown",
          "source": "This downloads a classification task from OpenML, uses sklearn to build a RandomForest classifier, and uploads the results to the server.\n"
        },
        {
          "cell_type": "markdown",
          "source": "Initialization and login. This assumes you have a .openml dir in your homedir with a subdir for caches and a file with your API key. You find your API key in your account settings on openml.org."
        },
        {
          "cell_type": "code",
          "input": "from sklearn import preprocessing, ensemble\nfrom openml.apiconnector import APIConnector\nfrom openml.autorun import openml_run\nimport openml\nimport os\n\nhome_dir = os.path.expanduser(\"~\")\nopenml_dir = os.path.join(home_dir, \".openml\")\ncache_dir = os.path.join(openml_dir, \"cache\")\nwith open(os.path.join(openml_dir, \"apikey.txt\"), 'r') as fh:\n\tkey = fh.readline().rstrip('\\n')\n\nopenml = APIConnector(cache_directory=cache_dir, apikey=key)",
          "outputs": [],
          "language": "python",
          "metadata": {
            "cellView": null,
            "executionInfo": {
              "content": {
                "status": "ok",
                "execution_count": 8,
                "payload": [],
                "user_expressions": {},
                "user_variables": {}
              },
              "timestamp": 1455459938537,
              "user_tz": -60,
              "user": {
                "sessionId": "354d267b02171dce",
                "userId": "109221074076178034989",
                "permissionId": "09574386662628411592",
                "displayName": "Joaquin Vanschoren",
                "color": "#1FA15D",
                "isMe": true,
                "isAnonymous": false,
                "photoUrl": "//lh6.googleusercontent.com/-9g2BD5NUkx4/AAAAAAAAAAI/AAAAAAAACC4/sACE-8zBzX4/s50-c-k-no/photo.jpg"
              }
            }
          }
        },
        {
          "cell_type": "markdown",
          "source": "Download a single OpenML task (id=10), create a scikit-learn classifier (RandomForest), and run it on the task"
        },
        {
          "cell_type": "code",
          "input": "task = openml.download_task(10)\nprint task\nclf = ensemble.RandomForestClassifier()\nprint clf\nprediction_path, description_path = openml_run(task, clf)\n\n#import json\n#print(json.dumps(xmltodict.parse(open(os.path.abspath(description_path), \"r\").read()), indent=4))",
          "outputs": [
            {
              "output_type": "stream",
              "text": "OpenMLTask instance.\nTask ID: 10\nTask type: Supervised Classification\nDataset id: 10\nRandomForestClassifier(bootstrap=True, class_weight=None, criterion='gini',\n            max_depth=None, max_features='auto', max_leaf_nodes=None,\n            min_samples_leaf=1, min_samples_split=2,\n            min_weight_fraction_leaf=0.0, n_estimators=10, n_jobs=1,\n            oob_score=False, random_state=None, verbose=0,\n            warm_start=False)\n2638\n",
              "stream": "stdout"
            },
            {
              "output_type": "stream",
              "text": "/usr/local/lib/python2.7/site-packages/arff.py:366: UnicodeWarning: Unicode equal comparison failed to convert both arguments to Unicode - interpreting them as being unequal\n  if value is None or value == u'' or value != value:\n",
              "stream": "stderr"
            }
          ],
          "language": "python",
          "metadata": {
            "cellView": null,
            "executionInfo": {
              "content": {
                "status": "ok",
                "execution_count": 9,
                "payload": [],
                "user_expressions": {},
                "user_variables": {}
              },
              "timestamp": 1455459946024,
              "user_tz": -60,
              "user": {
                "sessionId": "354d267b02171dce",
                "userId": "109221074076178034989",
                "permissionId": "09574386662628411592",
                "displayName": "Joaquin Vanschoren",
                "color": "#1FA15D",
                "isMe": true,
                "isAnonymous": false,
                "photoUrl": "//lh6.googleusercontent.com/-9g2BD5NUkx4/AAAAAAAAAAI/AAAAAAAACC4/sACE-8zBzX4/s50-c-k-no/photo.jpg"
              }
            }
          }
        },
        {
          "cell_type": "markdown",
          "source": "Upload the run to the OpenML server"
        },
        {
          "cell_type": "code",
          "input": "import xmltodict\n\nprediction_abspath = os.path.abspath(prediction_path)\ndescription_abspath = os.path.abspath(description_path)\n\nreturn_code, response = openml.upload_run(prediction_abspath, description_abspath)\n\nif(return_code == 200):\n\tresponse_dict = xmltodict.parse(response.content)\n\trun_id = response_dict['oml:upload_run']['oml:run_id']\n\tprint(\"Uploaded run with id %s\" % (run_id))\n\tprint(\"Check it at www.openml.org/r/%s\" % (run_id))\n",
          "outputs": [
            {
              "output_type": "stream",
              "text": "Uploaded run with id 524054\nCheck it at www.openml.org/r/524054\n",
              "stream": "stdout"
            }
          ],
          "language": "python",
          "metadata": {
            "cellView": null,
            "executionInfo": {
              "content": {
                "status": "ok",
                "execution_count": 10,
                "payload": [],
                "user_expressions": {},
                "user_variables": {}
              },
              "timestamp": 1455459956275,
              "user_tz": -60,
              "user": {
                "sessionId": "354d267b02171dce",
                "userId": "109221074076178034989",
                "permissionId": "09574386662628411592",
                "displayName": "Joaquin Vanschoren",
                "color": "#1FA15D",
                "isMe": true,
                "isAnonymous": false,
                "photoUrl": "//lh6.googleusercontent.com/-9g2BD5NUkx4/AAAAAAAAAAI/AAAAAAAACC4/sACE-8zBzX4/s50-c-k-no/photo.jpg"
              }
            }
          }
        }
      ]
    }
  ],
  "metadata": {
    "name": "OpenMLDemo.ipynb",
    "colabVersion": "0.1"
  },
  "nbformat": 3,
  "nbformat_minor": 0
}
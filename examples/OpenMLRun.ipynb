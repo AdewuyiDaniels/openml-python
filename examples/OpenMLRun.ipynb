{
 "cells": [
  {
   "cell_type": "markdown",
   "metadata": {},
   "source": [
    "This downloads a classification task from OpenML, uses sklearn to build a RandomForest classifier, and uploads the results to the server.\n"
   ]
  },
  {
   "cell_type": "markdown",
   "metadata": {},
   "source": [
    "Initialization and login. This assumes you have a .openml dir in your homedir with a subdir for caches and a file with your API key. You find your API key in your account settings on openml.org."
   ]
  },
  {
   "cell_type": "code",
   "execution_count": 6,
   "metadata": {
    "cellView": null,
    "collapsed": false,
    "executionInfo": {
     "content": {
      "execution_count": 8,
      "payload": [],
      "status": "ok",
      "user_expressions": {},
      "user_variables": {}
     },
     "timestamp": 1455459938537,
     "user": {
      "color": "#1FA15D",
      "displayName": "Joaquin Vanschoren",
      "isAnonymous": false,
      "isMe": true,
      "permissionId": "09574386662628411592",
      "photoUrl": "//lh6.googleusercontent.com/-9g2BD5NUkx4/AAAAAAAAAAI/AAAAAAAACC4/sACE-8zBzX4/s50-c-k-no/photo.jpg",
      "sessionId": "354d267b02171dce",
      "userId": "109221074076178034989"
     },
     "user_tz": -60
    }
   },
   "outputs": [],
   "source": [
    "from sklearn import preprocessing, ensemble\n",
    "from openml.apiconnector import APIConnector\n",
    "from openml.autorun import openml_run\n",
    "import os\n",
    "\n",
    "home_dir = os.path.expanduser(\"~\")\n",
    "openml_dir = os.path.join(home_dir, \".openml\")\n",
    "cache_dir = os.path.join(openml_dir, \"cache\")\n",
    "\n",
    "# assumes you have your api key in ~/.openml/config    \n",
    "connector = APIConnector(cache_directory=cache_dir)"
   ]
  },
  {
   "cell_type": "markdown",
   "metadata": {},
   "source": [
    "Download a single OpenML task (id=10), create a scikit-learn classifier (RandomForest), and run it on the task"
   ]
  },
  {
   "cell_type": "code",
   "execution_count": 7,
   "metadata": {
    "cellView": null,
    "collapsed": false,
    "executionInfo": {
     "content": {
      "execution_count": 9,
      "payload": [],
      "status": "ok",
      "user_expressions": {},
      "user_variables": {}
     },
     "timestamp": 1455459946024,
     "user": {
      "color": "#1FA15D",
      "displayName": "Joaquin Vanschoren",
      "isAnonymous": false,
      "isMe": true,
      "permissionId": "09574386662628411592",
      "photoUrl": "//lh6.googleusercontent.com/-9g2BD5NUkx4/AAAAAAAAAAI/AAAAAAAACC4/sACE-8zBzX4/s50-c-k-no/photo.jpg",
      "sessionId": "354d267b02171dce",
      "userId": "109221074076178034989"
     },
     "user_tz": -60
    }
   },
   "outputs": [
    {
     "name": "stdout",
     "output_type": "stream",
     "text": [
      "OpenMLTask instance.\n",
      "Task ID: 10\n",
      "Task type: Supervised Classification\n",
      "Dataset id: 10\n",
      "RandomForestClassifier(bootstrap=True, class_weight=None, criterion='gini',\n",
      "            max_depth=None, max_features='auto', max_leaf_nodes=None,\n",
      "            min_samples_leaf=1, min_samples_split=2,\n",
      "            min_weight_fraction_leaf=0.0, n_estimators=10, n_jobs=1,\n",
      "            oob_score=False, random_state=None, verbose=0,\n",
      "            warm_start=False)\n",
      "2823\n"
     ]
    }
   ],
   "source": [
    "task = connector.download_task(10)\n",
    "print(task)\n",
    "clf = ensemble.RandomForestClassifier()\n",
    "print(clf)\n",
    "prediction_path, description_path = openml_run(task, clf)\n",
    "\n",
    "#import json\n",
    "#print(json.dumps(xmltodict.parse(open(os.path.abspath(description_path), \"r\").read()), indent=4))"
   ]
  },
  {
   "cell_type": "markdown",
   "metadata": {},
   "source": [
    "Upload the run to the OpenML server"
   ]
  },
  {
   "cell_type": "code",
   "execution_count": 9,
   "metadata": {
    "cellView": null,
    "collapsed": false,
    "executionInfo": {
     "content": {
      "execution_count": 10,
      "payload": [],
      "status": "ok",
      "user_expressions": {},
      "user_variables": {}
     },
     "timestamp": 1455459956275,
     "user": {
      "color": "#1FA15D",
      "displayName": "Joaquin Vanschoren",
      "isAnonymous": false,
      "isMe": true,
      "permissionId": "09574386662628411592",
      "photoUrl": "//lh6.googleusercontent.com/-9g2BD5NUkx4/AAAAAAAAAAI/AAAAAAAACC4/sACE-8zBzX4/s50-c-k-no/photo.jpg",
      "sessionId": "354d267b02171dce",
      "userId": "109221074076178034989"
     },
     "user_tz": -60
    }
   },
   "outputs": [
    {
     "name": "stdout",
     "output_type": "stream",
     "text": [
      "Uploaded run with id 536815\n",
      "Check it at www.openml.org/r/536815\n"
     ]
    }
   ],
   "source": [
    "import xmltodict\n",
    "\n",
    "prediction_abspath = os.path.abspath(prediction_path)\n",
    "description_abspath = os.path.abspath(description_path)\n",
    "\n",
    "return_code, response = connector.upload_run(prediction_abspath, description_abspath)\n",
    "\n",
    "if(return_code == 200):\n",
    "    response_dict = xmltodict.parse(response.content)\n",
    "    run_id = response_dict['oml:upload_run']['oml:run_id']\n",
    "    print(\"Uploaded run with id %s\" % (run_id))\n",
    "    print(\"Check it at www.openml.org/r/%s\" % (run_id))\n"
   ]
  }
 ],
 "metadata": {
  "colabVersion": "0.1",
  "kernelspec": {
   "display_name": "Python 3",
   "language": "python",
   "name": "python3"
  },
  "language_info": {
   "codemirror_mode": {
    "name": "ipython",
    "version": 3
   },
   "file_extension": ".py",
   "mimetype": "text/x-python",
   "name": "python",
   "nbconvert_exporter": "python",
   "pygments_lexer": "ipython3",
   "version": "3.5.1"
  }
 },
 "nbformat": 4,
 "nbformat_minor": 0
}
